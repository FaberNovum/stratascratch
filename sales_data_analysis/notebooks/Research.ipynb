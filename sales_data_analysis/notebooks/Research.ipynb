{
 "cells": [
  {
   "cell_type": "markdown",
   "id": "bb917ebc-3822-425e-a812-b26514a894c9",
   "metadata": {},
   "source": [
    "## imports and configs"
   ]
  },
  {
   "cell_type": "code",
   "execution_count": null,
   "id": "3e2aa27b-414f-4c91-b23a-9d91fa569f31",
   "metadata": {},
   "outputs": [],
   "source": [
    "!conda install -c conda-forge featuretools"
   ]
  },
  {
   "cell_type": "code",
   "execution_count": 1,
   "id": "d5497947-9390-439b-8486-b9f91c876cd9",
   "metadata": {},
   "outputs": [
    {
     "ename": "ModuleNotFoundError",
     "evalue": "No module named 'featuretools'",
     "output_type": "error",
     "traceback": [
      "\u001b[1;31m---------------------------------------------------------------------------\u001b[0m",
      "\u001b[1;31mModuleNotFoundError\u001b[0m                       Traceback (most recent call last)",
      "Cell \u001b[1;32mIn [1], line 1\u001b[0m\n\u001b[1;32m----> 1\u001b[0m \u001b[38;5;28;01mimport\u001b[39;00m \u001b[38;5;21;01mfeaturetools\u001b[39;00m \u001b[38;5;28;01mas\u001b[39;00m \u001b[38;5;21;01mft\u001b[39;00m\n\u001b[0;32m      2\u001b[0m \u001b[38;5;28;01mimport\u001b[39;00m \u001b[38;5;21;01mpandas\u001b[39;00m \u001b[38;5;28;01mas\u001b[39;00m \u001b[38;5;21;01mpd\u001b[39;00m\n\u001b[0;32m      3\u001b[0m \u001b[38;5;28;01mimport\u001b[39;00m \u001b[38;5;21;01mnumpy\u001b[39;00m \u001b[38;5;28;01mas\u001b[39;00m \u001b[38;5;21;01mnp\u001b[39;00m\n",
      "\u001b[1;31mModuleNotFoundError\u001b[0m: No module named 'featuretools'"
     ]
    }
   ],
   "source": [
    "import featuretools as ft\n",
    "import pandas as pd\n",
    "import numpy as np\n",
    "import os\n",
    "import glob\n",
    "import matplotlib.pyplot as plt\n",
    "%matplotlib inline\n",
    "\n",
    "%config IPCompleter.use_jedi=False"
   ]
  },
  {
   "cell_type": "code",
   "execution_count": 2,
   "id": "5ed4d86b-5766-4f87-9d00-aa96406b4118",
   "metadata": {},
   "outputs": [],
   "source": [
    "data_path = r'C:\\Users\\wrigh\\Code\\stratascratch\\sales_data_analysis\\datasets'"
   ]
  },
  {
   "cell_type": "code",
   "execution_count": 3,
   "id": "84a54bdc-d09d-4b3b-8500-8c2edd55bec1",
   "metadata": {},
   "outputs": [],
   "source": [
    "# need to append all files into one (confirmed they have same structure)\n",
    "\n",
    "# set directory for files\n",
    "files = os.path.join(data_path, \"sales_week_starting_*.csv\")\n",
    "\n",
    "files = glob.glob(files)\n",
    "\n",
    "# for filename in os.listdir(directory):\n",
    "#     f = os.path.join(directory, filename)\n",
    "#     # checking if it is a file\n",
    "#     if os.path.isfile(f):\n",
    "        "
   ]
  },
  {
   "cell_type": "code",
   "execution_count": 4,
   "id": "0f6af817-8c6c-4bf5-98a1-01679de07d22",
   "metadata": {},
   "outputs": [
    {
     "data": {
      "text/plain": [
       "['C:\\\\Users\\\\wrigh\\\\Code\\\\stratascratch\\\\sales_data_analysis\\\\datasets\\\\sales_week_starting_2012-10-01.csv',\n",
       " 'C:\\\\Users\\\\wrigh\\\\Code\\\\stratascratch\\\\sales_data_analysis\\\\datasets\\\\sales_week_starting_2012-10-08.csv',\n",
       " 'C:\\\\Users\\\\wrigh\\\\Code\\\\stratascratch\\\\sales_data_analysis\\\\datasets\\\\sales_week_starting_2012-10-15.csv',\n",
       " 'C:\\\\Users\\\\wrigh\\\\Code\\\\stratascratch\\\\sales_data_analysis\\\\datasets\\\\sales_week_starting_2012-10-22.csv',\n",
       " 'C:\\\\Users\\\\wrigh\\\\Code\\\\stratascratch\\\\sales_data_analysis\\\\datasets\\\\sales_week_starting_2012-10-29.csv',\n",
       " 'C:\\\\Users\\\\wrigh\\\\Code\\\\stratascratch\\\\sales_data_analysis\\\\datasets\\\\sales_week_starting_2012-11-05.csv',\n",
       " 'C:\\\\Users\\\\wrigh\\\\Code\\\\stratascratch\\\\sales_data_analysis\\\\datasets\\\\sales_week_starting_2012-11-12.csv',\n",
       " 'C:\\\\Users\\\\wrigh\\\\Code\\\\stratascratch\\\\sales_data_analysis\\\\datasets\\\\sales_week_starting_2012-11-19.csv',\n",
       " 'C:\\\\Users\\\\wrigh\\\\Code\\\\stratascratch\\\\sales_data_analysis\\\\datasets\\\\sales_week_starting_2012-11-26.csv',\n",
       " 'C:\\\\Users\\\\wrigh\\\\Code\\\\stratascratch\\\\sales_data_analysis\\\\datasets\\\\sales_week_starting_2012-12-03.csv',\n",
       " 'C:\\\\Users\\\\wrigh\\\\Code\\\\stratascratch\\\\sales_data_analysis\\\\datasets\\\\sales_week_starting_2012-12-10.csv',\n",
       " 'C:\\\\Users\\\\wrigh\\\\Code\\\\stratascratch\\\\sales_data_analysis\\\\datasets\\\\sales_week_starting_2012-12-17.csv',\n",
       " 'C:\\\\Users\\\\wrigh\\\\Code\\\\stratascratch\\\\sales_data_analysis\\\\datasets\\\\sales_week_starting_2012-12-24.csv',\n",
       " 'C:\\\\Users\\\\wrigh\\\\Code\\\\stratascratch\\\\sales_data_analysis\\\\datasets\\\\sales_week_starting_2012-12-31.csv',\n",
       " 'C:\\\\Users\\\\wrigh\\\\Code\\\\stratascratch\\\\sales_data_analysis\\\\datasets\\\\sales_week_starting_2013-01-07.csv',\n",
       " 'C:\\\\Users\\\\wrigh\\\\Code\\\\stratascratch\\\\sales_data_analysis\\\\datasets\\\\sales_week_starting_2013-01-14.csv',\n",
       " 'C:\\\\Users\\\\wrigh\\\\Code\\\\stratascratch\\\\sales_data_analysis\\\\datasets\\\\sales_week_starting_2013-01-21.csv',\n",
       " 'C:\\\\Users\\\\wrigh\\\\Code\\\\stratascratch\\\\sales_data_analysis\\\\datasets\\\\sales_week_starting_2013-01-28.csv',\n",
       " 'C:\\\\Users\\\\wrigh\\\\Code\\\\stratascratch\\\\sales_data_analysis\\\\datasets\\\\sales_week_starting_2013-02-04.csv',\n",
       " 'C:\\\\Users\\\\wrigh\\\\Code\\\\stratascratch\\\\sales_data_analysis\\\\datasets\\\\sales_week_starting_2013-02-11.csv',\n",
       " 'C:\\\\Users\\\\wrigh\\\\Code\\\\stratascratch\\\\sales_data_analysis\\\\datasets\\\\sales_week_starting_2013-02-18.csv',\n",
       " 'C:\\\\Users\\\\wrigh\\\\Code\\\\stratascratch\\\\sales_data_analysis\\\\datasets\\\\sales_week_starting_2013-02-25.csv',\n",
       " 'C:\\\\Users\\\\wrigh\\\\Code\\\\stratascratch\\\\sales_data_analysis\\\\datasets\\\\sales_week_starting_2013-03-04.csv',\n",
       " 'C:\\\\Users\\\\wrigh\\\\Code\\\\stratascratch\\\\sales_data_analysis\\\\datasets\\\\sales_week_starting_2013-03-11.csv',\n",
       " 'C:\\\\Users\\\\wrigh\\\\Code\\\\stratascratch\\\\sales_data_analysis\\\\datasets\\\\sales_week_starting_2013-03-18.csv',\n",
       " 'C:\\\\Users\\\\wrigh\\\\Code\\\\stratascratch\\\\sales_data_analysis\\\\datasets\\\\sales_week_starting_2013-03-25.csv',\n",
       " 'C:\\\\Users\\\\wrigh\\\\Code\\\\stratascratch\\\\sales_data_analysis\\\\datasets\\\\sales_week_starting_2013-04-01.csv',\n",
       " 'C:\\\\Users\\\\wrigh\\\\Code\\\\stratascratch\\\\sales_data_analysis\\\\datasets\\\\sales_week_starting_2013-04-08.csv',\n",
       " 'C:\\\\Users\\\\wrigh\\\\Code\\\\stratascratch\\\\sales_data_analysis\\\\datasets\\\\sales_week_starting_2013-04-15.csv',\n",
       " 'C:\\\\Users\\\\wrigh\\\\Code\\\\stratascratch\\\\sales_data_analysis\\\\datasets\\\\sales_week_starting_2013-04-22.csv',\n",
       " 'C:\\\\Users\\\\wrigh\\\\Code\\\\stratascratch\\\\sales_data_analysis\\\\datasets\\\\sales_week_starting_2013-04-29.csv',\n",
       " 'C:\\\\Users\\\\wrigh\\\\Code\\\\stratascratch\\\\sales_data_analysis\\\\datasets\\\\sales_week_starting_2013-05-06.csv',\n",
       " 'C:\\\\Users\\\\wrigh\\\\Code\\\\stratascratch\\\\sales_data_analysis\\\\datasets\\\\sales_week_starting_2013-05-13.csv',\n",
       " 'C:\\\\Users\\\\wrigh\\\\Code\\\\stratascratch\\\\sales_data_analysis\\\\datasets\\\\sales_week_starting_2013-05-20.csv',\n",
       " 'C:\\\\Users\\\\wrigh\\\\Code\\\\stratascratch\\\\sales_data_analysis\\\\datasets\\\\sales_week_starting_2013-05-27.csv',\n",
       " 'C:\\\\Users\\\\wrigh\\\\Code\\\\stratascratch\\\\sales_data_analysis\\\\datasets\\\\sales_week_starting_2013-06-03.csv',\n",
       " 'C:\\\\Users\\\\wrigh\\\\Code\\\\stratascratch\\\\sales_data_analysis\\\\datasets\\\\sales_week_starting_2013-06-10.csv',\n",
       " 'C:\\\\Users\\\\wrigh\\\\Code\\\\stratascratch\\\\sales_data_analysis\\\\datasets\\\\sales_week_starting_2013-06-17.csv',\n",
       " 'C:\\\\Users\\\\wrigh\\\\Code\\\\stratascratch\\\\sales_data_analysis\\\\datasets\\\\sales_week_starting_2013-06-24.csv',\n",
       " 'C:\\\\Users\\\\wrigh\\\\Code\\\\stratascratch\\\\sales_data_analysis\\\\datasets\\\\sales_week_starting_2013-07-01.csv',\n",
       " 'C:\\\\Users\\\\wrigh\\\\Code\\\\stratascratch\\\\sales_data_analysis\\\\datasets\\\\sales_week_starting_2013-07-08.csv',\n",
       " 'C:\\\\Users\\\\wrigh\\\\Code\\\\stratascratch\\\\sales_data_analysis\\\\datasets\\\\sales_week_starting_2013-07-15.csv',\n",
       " 'C:\\\\Users\\\\wrigh\\\\Code\\\\stratascratch\\\\sales_data_analysis\\\\datasets\\\\sales_week_starting_2013-07-22.csv',\n",
       " 'C:\\\\Users\\\\wrigh\\\\Code\\\\stratascratch\\\\sales_data_analysis\\\\datasets\\\\sales_week_starting_2013-07-29.csv',\n",
       " 'C:\\\\Users\\\\wrigh\\\\Code\\\\stratascratch\\\\sales_data_analysis\\\\datasets\\\\sales_week_starting_2013-08-05.csv',\n",
       " 'C:\\\\Users\\\\wrigh\\\\Code\\\\stratascratch\\\\sales_data_analysis\\\\datasets\\\\sales_week_starting_2013-08-12.csv',\n",
       " 'C:\\\\Users\\\\wrigh\\\\Code\\\\stratascratch\\\\sales_data_analysis\\\\datasets\\\\sales_week_starting_2013-08-19.csv',\n",
       " 'C:\\\\Users\\\\wrigh\\\\Code\\\\stratascratch\\\\sales_data_analysis\\\\datasets\\\\sales_week_starting_2013-08-26.csv',\n",
       " 'C:\\\\Users\\\\wrigh\\\\Code\\\\stratascratch\\\\sales_data_analysis\\\\datasets\\\\sales_week_starting_2013-09-02.csv',\n",
       " 'C:\\\\Users\\\\wrigh\\\\Code\\\\stratascratch\\\\sales_data_analysis\\\\datasets\\\\sales_week_starting_2013-09-09.csv']"
      ]
     },
     "execution_count": 4,
     "metadata": {},
     "output_type": "execute_result"
    }
   ],
   "source": [
    "files"
   ]
  },
  {
   "cell_type": "code",
   "execution_count": 5,
   "id": "3217bc4e-4162-44bf-8168-8c0d67ac37de",
   "metadata": {},
   "outputs": [],
   "source": [
    "df = pd.concat(map(pd.read_csv, files), ignore_index=True)"
   ]
  },
  {
   "cell_type": "code",
   "execution_count": 6,
   "id": "9d0dcf9a-f8dd-48da-9b91-eb333da1f29b",
   "metadata": {},
   "outputs": [
    {
     "data": {
      "text/html": [
       "<div>\n",
       "<style scoped>\n",
       "    .dataframe tbody tr th:only-of-type {\n",
       "        vertical-align: middle;\n",
       "    }\n",
       "\n",
       "    .dataframe tbody tr th {\n",
       "        vertical-align: top;\n",
       "    }\n",
       "\n",
       "    .dataframe thead th {\n",
       "        text-align: right;\n",
       "    }\n",
       "</style>\n",
       "<table border=\"1\" class=\"dataframe\">\n",
       "  <thead>\n",
       "    <tr style=\"text-align: right;\">\n",
       "      <th></th>\n",
       "      <th>sale_time</th>\n",
       "      <th>purchaser_gender</th>\n",
       "    </tr>\n",
       "  </thead>\n",
       "  <tbody>\n",
       "    <tr>\n",
       "      <th>0</th>\n",
       "      <td>2012-10-01 01:42:22</td>\n",
       "      <td>female</td>\n",
       "    </tr>\n",
       "    <tr>\n",
       "      <th>1</th>\n",
       "      <td>2012-10-01 02:24:53</td>\n",
       "      <td>female</td>\n",
       "    </tr>\n",
       "    <tr>\n",
       "      <th>2</th>\n",
       "      <td>2012-10-01 02:25:40</td>\n",
       "      <td>female</td>\n",
       "    </tr>\n",
       "    <tr>\n",
       "      <th>3</th>\n",
       "      <td>2012-10-01 02:30:42</td>\n",
       "      <td>female</td>\n",
       "    </tr>\n",
       "    <tr>\n",
       "      <th>4</th>\n",
       "      <td>2012-10-01 02:51:32</td>\n",
       "      <td>male</td>\n",
       "    </tr>\n",
       "  </tbody>\n",
       "</table>\n",
       "</div>"
      ],
      "text/plain": [
       "             sale_time purchaser_gender\n",
       "0  2012-10-01 01:42:22           female\n",
       "1  2012-10-01 02:24:53           female\n",
       "2  2012-10-01 02:25:40           female\n",
       "3  2012-10-01 02:30:42           female\n",
       "4  2012-10-01 02:51:32             male"
      ]
     },
     "execution_count": 6,
     "metadata": {},
     "output_type": "execute_result"
    }
   ],
   "source": [
    "df.head()"
   ]
  },
  {
   "cell_type": "code",
   "execution_count": 7,
   "id": "bfb772be-c492-44f0-883b-9d61d728deeb",
   "metadata": {},
   "outputs": [],
   "source": [
    "# change dtypes\n",
    "df['sale_time'] = pd.to_datetime(df['sale_time'])"
   ]
  },
  {
   "cell_type": "code",
   "execution_count": 8,
   "id": "7bb0539d-d608-4202-af18-4109fc9173ed",
   "metadata": {},
   "outputs": [
    {
     "data": {
      "text/plain": [
       "datetime.date(2012, 10, 1)"
      ]
     },
     "execution_count": 8,
     "metadata": {},
     "output_type": "execute_result"
    }
   ],
   "source": [
    "df['sale_time'].dt.date.min()"
   ]
  },
  {
   "cell_type": "code",
   "execution_count": 9,
   "id": "07eaca85-62d6-4b95-b629-4a21061631ad",
   "metadata": {},
   "outputs": [
    {
     "data": {
      "text/plain": [
       "datetime.date(2013, 9, 15)"
      ]
     },
     "execution_count": 9,
     "metadata": {},
     "output_type": "execute_result"
    }
   ],
   "source": [
    "# this is confirmed as final files STARTS at 2013-09-09\n",
    "df['sale_time'].dt.date.max()"
   ]
  },
  {
   "cell_type": "markdown",
   "id": "e8169def-df10-4be4-a147-c8d0d550ec05",
   "metadata": {},
   "source": [
    "## Question 1\n",
    "**Plot daily sales for all 50 weeks.**"
   ]
  },
  {
   "cell_type": "code",
   "execution_count": 10,
   "id": "7e832e38-1c8f-47b7-9c62-b0942563f16b",
   "metadata": {},
   "outputs": [],
   "source": [
    "# daily sales: group sales by day\n",
    "# week: week of sale_time"
   ]
  },
  {
   "cell_type": "code",
   "execution_count": 11,
   "id": "ae5efdc7-a116-447e-993a-abe825432584",
   "metadata": {},
   "outputs": [],
   "source": [
    "df['date'] = pd.to_datetime(df['sale_time'])"
   ]
  },
  {
   "cell_type": "code",
   "execution_count": 12,
   "id": "0e5fa66c-5b6e-4a4d-8075-35646642e982",
   "metadata": {},
   "outputs": [
    {
     "data": {
      "text/html": [
       "<div>\n",
       "<style scoped>\n",
       "    .dataframe tbody tr th:only-of-type {\n",
       "        vertical-align: middle;\n",
       "    }\n",
       "\n",
       "    .dataframe tbody tr th {\n",
       "        vertical-align: top;\n",
       "    }\n",
       "\n",
       "    .dataframe thead th {\n",
       "        text-align: right;\n",
       "    }\n",
       "</style>\n",
       "<table border=\"1\" class=\"dataframe\">\n",
       "  <thead>\n",
       "    <tr style=\"text-align: right;\">\n",
       "      <th></th>\n",
       "      <th>sale_time</th>\n",
       "      <th>purchaser_gender</th>\n",
       "      <th>date</th>\n",
       "    </tr>\n",
       "  </thead>\n",
       "  <tbody>\n",
       "    <tr>\n",
       "      <th>0</th>\n",
       "      <td>2012-10-01 01:42:22</td>\n",
       "      <td>female</td>\n",
       "      <td>2012-10-01 01:42:22</td>\n",
       "    </tr>\n",
       "    <tr>\n",
       "      <th>1</th>\n",
       "      <td>2012-10-01 02:24:53</td>\n",
       "      <td>female</td>\n",
       "      <td>2012-10-01 02:24:53</td>\n",
       "    </tr>\n",
       "    <tr>\n",
       "      <th>2</th>\n",
       "      <td>2012-10-01 02:25:40</td>\n",
       "      <td>female</td>\n",
       "      <td>2012-10-01 02:25:40</td>\n",
       "    </tr>\n",
       "    <tr>\n",
       "      <th>3</th>\n",
       "      <td>2012-10-01 02:30:42</td>\n",
       "      <td>female</td>\n",
       "      <td>2012-10-01 02:30:42</td>\n",
       "    </tr>\n",
       "    <tr>\n",
       "      <th>4</th>\n",
       "      <td>2012-10-01 02:51:32</td>\n",
       "      <td>male</td>\n",
       "      <td>2012-10-01 02:51:32</td>\n",
       "    </tr>\n",
       "    <tr>\n",
       "      <th>...</th>\n",
       "      <td>...</td>\n",
       "      <td>...</td>\n",
       "      <td>...</td>\n",
       "    </tr>\n",
       "    <tr>\n",
       "      <th>204324</th>\n",
       "      <td>2013-09-15 23:30:51</td>\n",
       "      <td>female</td>\n",
       "      <td>2013-09-15 23:30:51</td>\n",
       "    </tr>\n",
       "    <tr>\n",
       "      <th>204325</th>\n",
       "      <td>2013-09-15 23:42:02</td>\n",
       "      <td>female</td>\n",
       "      <td>2013-09-15 23:42:02</td>\n",
       "    </tr>\n",
       "    <tr>\n",
       "      <th>204326</th>\n",
       "      <td>2013-09-15 23:43:24</td>\n",
       "      <td>male</td>\n",
       "      <td>2013-09-15 23:43:24</td>\n",
       "    </tr>\n",
       "    <tr>\n",
       "      <th>204327</th>\n",
       "      <td>2013-09-15 23:43:32</td>\n",
       "      <td>male</td>\n",
       "      <td>2013-09-15 23:43:32</td>\n",
       "    </tr>\n",
       "    <tr>\n",
       "      <th>204328</th>\n",
       "      <td>2013-09-15 23:48:47</td>\n",
       "      <td>male</td>\n",
       "      <td>2013-09-15 23:48:47</td>\n",
       "    </tr>\n",
       "  </tbody>\n",
       "</table>\n",
       "<p>204329 rows × 3 columns</p>\n",
       "</div>"
      ],
      "text/plain": [
       "                 sale_time purchaser_gender                date\n",
       "0      2012-10-01 01:42:22           female 2012-10-01 01:42:22\n",
       "1      2012-10-01 02:24:53           female 2012-10-01 02:24:53\n",
       "2      2012-10-01 02:25:40           female 2012-10-01 02:25:40\n",
       "3      2012-10-01 02:30:42           female 2012-10-01 02:30:42\n",
       "4      2012-10-01 02:51:32             male 2012-10-01 02:51:32\n",
       "...                    ...              ...                 ...\n",
       "204324 2013-09-15 23:30:51           female 2013-09-15 23:30:51\n",
       "204325 2013-09-15 23:42:02           female 2013-09-15 23:42:02\n",
       "204326 2013-09-15 23:43:24             male 2013-09-15 23:43:24\n",
       "204327 2013-09-15 23:43:32             male 2013-09-15 23:43:32\n",
       "204328 2013-09-15 23:48:47             male 2013-09-15 23:48:47\n",
       "\n",
       "[204329 rows x 3 columns]"
      ]
     },
     "execution_count": 12,
     "metadata": {},
     "output_type": "execute_result"
    }
   ],
   "source": [
    "df"
   ]
  },
  {
   "cell_type": "code",
   "execution_count": 13,
   "id": "1b6b9edf-5c71-4f4d-b693-30cc14b36942",
   "metadata": {},
   "outputs": [],
   "source": [
    "daily_sales_df = df['date'].groupby(df['date'].dt.floor('d')).size().reset_index(name='sales_amount')"
   ]
  },
  {
   "cell_type": "code",
   "execution_count": 14,
   "id": "4039404a-7648-4740-afcf-256ce4ef317e",
   "metadata": {},
   "outputs": [],
   "source": [
    "daily_sales_df.rename(columns={'day':'sale_day'},inplace=True)"
   ]
  },
  {
   "cell_type": "code",
   "execution_count": 15,
   "id": "4c76b935-cfe9-401b-9257-7507f6bd431e",
   "metadata": {},
   "outputs": [
    {
     "data": {
      "text/html": [
       "<div>\n",
       "<style scoped>\n",
       "    .dataframe tbody tr th:only-of-type {\n",
       "        vertical-align: middle;\n",
       "    }\n",
       "\n",
       "    .dataframe tbody tr th {\n",
       "        vertical-align: top;\n",
       "    }\n",
       "\n",
       "    .dataframe thead th {\n",
       "        text-align: right;\n",
       "    }\n",
       "</style>\n",
       "<table border=\"1\" class=\"dataframe\">\n",
       "  <thead>\n",
       "    <tr style=\"text-align: right;\">\n",
       "      <th></th>\n",
       "      <th>date</th>\n",
       "      <th>sales_amount</th>\n",
       "    </tr>\n",
       "  </thead>\n",
       "  <tbody>\n",
       "    <tr>\n",
       "      <th>0</th>\n",
       "      <td>2012-10-01</td>\n",
       "      <td>514</td>\n",
       "    </tr>\n",
       "    <tr>\n",
       "      <th>1</th>\n",
       "      <td>2012-10-02</td>\n",
       "      <td>482</td>\n",
       "    </tr>\n",
       "    <tr>\n",
       "      <th>2</th>\n",
       "      <td>2012-10-03</td>\n",
       "      <td>499</td>\n",
       "    </tr>\n",
       "    <tr>\n",
       "      <th>3</th>\n",
       "      <td>2012-10-04</td>\n",
       "      <td>546</td>\n",
       "    </tr>\n",
       "    <tr>\n",
       "      <th>4</th>\n",
       "      <td>2012-10-05</td>\n",
       "      <td>476</td>\n",
       "    </tr>\n",
       "  </tbody>\n",
       "</table>\n",
       "</div>"
      ],
      "text/plain": [
       "        date  sales_amount\n",
       "0 2012-10-01           514\n",
       "1 2012-10-02           482\n",
       "2 2012-10-03           499\n",
       "3 2012-10-04           546\n",
       "4 2012-10-05           476"
      ]
     },
     "execution_count": 15,
     "metadata": {},
     "output_type": "execute_result"
    }
   ],
   "source": [
    "daily_sales_df.head()"
   ]
  },
  {
   "cell_type": "code",
   "execution_count": 16,
   "id": "9774cbb1-bd9b-45db-a0d8-6a864c1520dd",
   "metadata": {},
   "outputs": [],
   "source": [
    "# now make date the index for plotting\n",
    "daily_sales_df.index = daily_sales_df['date']"
   ]
  },
  {
   "cell_type": "code",
   "execution_count": 17,
   "id": "b02da8f8-0f52-48c0-bc6e-4bb5e285641f",
   "metadata": {},
   "outputs": [],
   "source": [
    "daily_sales_df.drop(columns=['date'], inplace=True)"
   ]
  },
  {
   "cell_type": "code",
   "execution_count": 18,
   "id": "9c635ca9-c2df-4d81-be0e-245d15a31119",
   "metadata": {},
   "outputs": [
    {
     "data": {
      "text/html": [
       "<div>\n",
       "<style scoped>\n",
       "    .dataframe tbody tr th:only-of-type {\n",
       "        vertical-align: middle;\n",
       "    }\n",
       "\n",
       "    .dataframe tbody tr th {\n",
       "        vertical-align: top;\n",
       "    }\n",
       "\n",
       "    .dataframe thead th {\n",
       "        text-align: right;\n",
       "    }\n",
       "</style>\n",
       "<table border=\"1\" class=\"dataframe\">\n",
       "  <thead>\n",
       "    <tr style=\"text-align: right;\">\n",
       "      <th></th>\n",
       "      <th>sales_amount</th>\n",
       "    </tr>\n",
       "    <tr>\n",
       "      <th>date</th>\n",
       "      <th></th>\n",
       "    </tr>\n",
       "  </thead>\n",
       "  <tbody>\n",
       "    <tr>\n",
       "      <th>2012-10-01</th>\n",
       "      <td>514</td>\n",
       "    </tr>\n",
       "    <tr>\n",
       "      <th>2012-10-02</th>\n",
       "      <td>482</td>\n",
       "    </tr>\n",
       "    <tr>\n",
       "      <th>2012-10-03</th>\n",
       "      <td>499</td>\n",
       "    </tr>\n",
       "    <tr>\n",
       "      <th>2012-10-04</th>\n",
       "      <td>546</td>\n",
       "    </tr>\n",
       "    <tr>\n",
       "      <th>2012-10-05</th>\n",
       "      <td>476</td>\n",
       "    </tr>\n",
       "    <tr>\n",
       "      <th>...</th>\n",
       "      <td>...</td>\n",
       "    </tr>\n",
       "    <tr>\n",
       "      <th>2013-09-11</th>\n",
       "      <td>719</td>\n",
       "    </tr>\n",
       "    <tr>\n",
       "      <th>2013-09-12</th>\n",
       "      <td>735</td>\n",
       "    </tr>\n",
       "    <tr>\n",
       "      <th>2013-09-13</th>\n",
       "      <td>743</td>\n",
       "    </tr>\n",
       "    <tr>\n",
       "      <th>2013-09-14</th>\n",
       "      <td>655</td>\n",
       "    </tr>\n",
       "    <tr>\n",
       "      <th>2013-09-15</th>\n",
       "      <td>752</td>\n",
       "    </tr>\n",
       "  </tbody>\n",
       "</table>\n",
       "<p>350 rows × 1 columns</p>\n",
       "</div>"
      ],
      "text/plain": [
       "            sales_amount\n",
       "date                    \n",
       "2012-10-01           514\n",
       "2012-10-02           482\n",
       "2012-10-03           499\n",
       "2012-10-04           546\n",
       "2012-10-05           476\n",
       "...                  ...\n",
       "2013-09-11           719\n",
       "2013-09-12           735\n",
       "2013-09-13           743\n",
       "2013-09-14           655\n",
       "2013-09-15           752\n",
       "\n",
       "[350 rows x 1 columns]"
      ]
     },
     "execution_count": 18,
     "metadata": {},
     "output_type": "execute_result"
    }
   ],
   "source": [
    "daily_sales_df"
   ]
  },
  {
   "cell_type": "code",
   "execution_count": 19,
   "id": "6466cd13-a921-4b4c-9ddc-189759e330c5",
   "metadata": {},
   "outputs": [
    {
     "data": {
      "text/plain": [
       "<AxesSubplot:title={'center':'daily sales over 50 weeks'}, xlabel='date'>"
      ]
     },
     "execution_count": 19,
     "metadata": {},
     "output_type": "execute_result"
    },
    {
     "data": {
      "image/png": "[encoded data removed]",
      "text/plain": [
       "<Figure size 1000x800 with 1 Axes>"
      ]
     },
     "metadata": {},
     "output_type": "display_data"
    }
   ],
   "source": [
    "daily_sales_df.plot(figsize=(10,8), title='daily sales over 50 weeks')"
   ]
  },
  {
   "cell_type": "markdown",
   "id": "e4a67e8f-0d38-48be-a62b-dfe49aadb782",
   "metadata": {},
   "source": [
    "Question 2\n",
    "\n",
    "**It looks like there has been a sudden change in daily sales. What date did it occur?**"
   ]
  },
  {
   "cell_type": "code",
   "execution_count": 20,
   "id": "a7ff799b-a35a-49e2-9e2d-45c463fef8fc",
   "metadata": {},
   "outputs": [
    {
     "data": {
      "text/html": [
       "<div>\n",
       "<style scoped>\n",
       "    .dataframe tbody tr th:only-of-type {\n",
       "        vertical-align: middle;\n",
       "    }\n",
       "\n",
       "    .dataframe tbody tr th {\n",
       "        vertical-align: top;\n",
       "    }\n",
       "\n",
       "    .dataframe thead th {\n",
       "        text-align: right;\n",
       "    }\n",
       "</style>\n",
       "<table border=\"1\" class=\"dataframe\">\n",
       "  <thead>\n",
       "    <tr style=\"text-align: right;\">\n",
       "      <th></th>\n",
       "      <th>sales_amount</th>\n",
       "    </tr>\n",
       "    <tr>\n",
       "      <th>date</th>\n",
       "      <th></th>\n",
       "    </tr>\n",
       "  </thead>\n",
       "  <tbody>\n",
       "    <tr>\n",
       "      <th>2012-10-01</th>\n",
       "      <td>514</td>\n",
       "    </tr>\n",
       "    <tr>\n",
       "      <th>2012-10-02</th>\n",
       "      <td>482</td>\n",
       "    </tr>\n",
       "    <tr>\n",
       "      <th>2012-10-03</th>\n",
       "      <td>499</td>\n",
       "    </tr>\n",
       "    <tr>\n",
       "      <th>2012-10-04</th>\n",
       "      <td>546</td>\n",
       "    </tr>\n",
       "    <tr>\n",
       "      <th>2012-10-05</th>\n",
       "      <td>476</td>\n",
       "    </tr>\n",
       "    <tr>\n",
       "      <th>...</th>\n",
       "      <td>...</td>\n",
       "    </tr>\n",
       "    <tr>\n",
       "      <th>2013-09-11</th>\n",
       "      <td>719</td>\n",
       "    </tr>\n",
       "    <tr>\n",
       "      <th>2013-09-12</th>\n",
       "      <td>735</td>\n",
       "    </tr>\n",
       "    <tr>\n",
       "      <th>2013-09-13</th>\n",
       "      <td>743</td>\n",
       "    </tr>\n",
       "    <tr>\n",
       "      <th>2013-09-14</th>\n",
       "      <td>655</td>\n",
       "    </tr>\n",
       "    <tr>\n",
       "      <th>2013-09-15</th>\n",
       "      <td>752</td>\n",
       "    </tr>\n",
       "  </tbody>\n",
       "</table>\n",
       "<p>350 rows × 1 columns</p>\n",
       "</div>"
      ],
      "text/plain": [
       "            sales_amount\n",
       "date                    \n",
       "2012-10-01           514\n",
       "2012-10-02           482\n",
       "2012-10-03           499\n",
       "2012-10-04           546\n",
       "2012-10-05           476\n",
       "...                  ...\n",
       "2013-09-11           719\n",
       "2013-09-12           735\n",
       "2013-09-13           743\n",
       "2013-09-14           655\n",
       "2013-09-15           752\n",
       "\n",
       "[350 rows x 1 columns]"
      ]
     },
     "execution_count": 20,
     "metadata": {},
     "output_type": "execute_result"
    }
   ],
   "source": [
    "daily_sales_df"
   ]
  },
  {
   "cell_type": "code",
   "execution_count": 21,
   "id": "c52f48b1-da86-4de1-9888-0f61659c12b0",
   "metadata": {},
   "outputs": [],
   "source": [
    "# need to find biggest gap between current row sales_amount and previous row sales_amount\n",
    "biggest_change_df = daily_sales_df"
   ]
  },
  {
   "cell_type": "code",
   "execution_count": 22,
   "id": "1e160cb4-bec6-4f7d-858c-4317a256dbe5",
   "metadata": {},
   "outputs": [],
   "source": [
    "biggest_change_df['previous_day_sales_amount'] = biggest_change_df['sales_amount'].shift(1).fillna(0).astype('int')"
   ]
  },
  {
   "cell_type": "code",
   "execution_count": 23,
   "id": "b696c7ee-0a23-4500-8703-952445cca8a6",
   "metadata": {},
   "outputs": [
    {
     "data": {
      "text/html": [
       "<div>\n",
       "<style scoped>\n",
       "    .dataframe tbody tr th:only-of-type {\n",
       "        vertical-align: middle;\n",
       "    }\n",
       "\n",
       "    .dataframe tbody tr th {\n",
       "        vertical-align: top;\n",
       "    }\n",
       "\n",
       "    .dataframe thead th {\n",
       "        text-align: right;\n",
       "    }\n",
       "</style>\n",
       "<table border=\"1\" class=\"dataframe\">\n",
       "  <thead>\n",
       "    <tr style=\"text-align: right;\">\n",
       "      <th></th>\n",
       "      <th>sales_amount</th>\n",
       "      <th>previous_day_sales_amount</th>\n",
       "    </tr>\n",
       "    <tr>\n",
       "      <th>date</th>\n",
       "      <th></th>\n",
       "      <th></th>\n",
       "    </tr>\n",
       "  </thead>\n",
       "  <tbody>\n",
       "    <tr>\n",
       "      <th>2012-10-01</th>\n",
       "      <td>514</td>\n",
       "      <td>0</td>\n",
       "    </tr>\n",
       "    <tr>\n",
       "      <th>2012-10-02</th>\n",
       "      <td>482</td>\n",
       "      <td>514</td>\n",
       "    </tr>\n",
       "    <tr>\n",
       "      <th>2012-10-03</th>\n",
       "      <td>499</td>\n",
       "      <td>482</td>\n",
       "    </tr>\n",
       "    <tr>\n",
       "      <th>2012-10-04</th>\n",
       "      <td>546</td>\n",
       "      <td>499</td>\n",
       "    </tr>\n",
       "    <tr>\n",
       "      <th>2012-10-05</th>\n",
       "      <td>476</td>\n",
       "      <td>546</td>\n",
       "    </tr>\n",
       "    <tr>\n",
       "      <th>...</th>\n",
       "      <td>...</td>\n",
       "      <td>...</td>\n",
       "    </tr>\n",
       "    <tr>\n",
       "      <th>2013-09-11</th>\n",
       "      <td>719</td>\n",
       "      <td>715</td>\n",
       "    </tr>\n",
       "    <tr>\n",
       "      <th>2013-09-12</th>\n",
       "      <td>735</td>\n",
       "      <td>719</td>\n",
       "    </tr>\n",
       "    <tr>\n",
       "      <th>2013-09-13</th>\n",
       "      <td>743</td>\n",
       "      <td>735</td>\n",
       "    </tr>\n",
       "    <tr>\n",
       "      <th>2013-09-14</th>\n",
       "      <td>655</td>\n",
       "      <td>743</td>\n",
       "    </tr>\n",
       "    <tr>\n",
       "      <th>2013-09-15</th>\n",
       "      <td>752</td>\n",
       "      <td>655</td>\n",
       "    </tr>\n",
       "  </tbody>\n",
       "</table>\n",
       "<p>350 rows × 2 columns</p>\n",
       "</div>"
      ],
      "text/plain": [
       "            sales_amount  previous_day_sales_amount\n",
       "date                                               \n",
       "2012-10-01           514                          0\n",
       "2012-10-02           482                        514\n",
       "2012-10-03           499                        482\n",
       "2012-10-04           546                        499\n",
       "2012-10-05           476                        546\n",
       "...                  ...                        ...\n",
       "2013-09-11           719                        715\n",
       "2013-09-12           735                        719\n",
       "2013-09-13           743                        735\n",
       "2013-09-14           655                        743\n",
       "2013-09-15           752                        655\n",
       "\n",
       "[350 rows x 2 columns]"
      ]
     },
     "execution_count": 23,
     "metadata": {},
     "output_type": "execute_result"
    }
   ],
   "source": [
    "biggest_change_df"
   ]
  },
  {
   "cell_type": "code",
   "execution_count": 24,
   "id": "8315c241-af80-4731-ac6b-5e2b99a0f496",
   "metadata": {},
   "outputs": [],
   "source": [
    "biggest_change_df['biggest_sales_difference'] = biggest_change_df['sales_amount'] - biggest_change_df['previous_day_sales_amount']"
   ]
  },
  {
   "cell_type": "code",
   "execution_count": 25,
   "id": "3547acc7-b912-40ef-94df-74bf1327021c",
   "metadata": {},
   "outputs": [
    {
     "data": {
      "text/html": [
       "<div>\n",
       "<style scoped>\n",
       "    .dataframe tbody tr th:only-of-type {\n",
       "        vertical-align: middle;\n",
       "    }\n",
       "\n",
       "    .dataframe tbody tr th {\n",
       "        vertical-align: top;\n",
       "    }\n",
       "\n",
       "    .dataframe thead th {\n",
       "        text-align: right;\n",
       "    }\n",
       "</style>\n",
       "<table border=\"1\" class=\"dataframe\">\n",
       "  <thead>\n",
       "    <tr style=\"text-align: right;\">\n",
       "      <th></th>\n",
       "      <th>sales_amount</th>\n",
       "      <th>previous_day_sales_amount</th>\n",
       "      <th>biggest_sales_difference</th>\n",
       "    </tr>\n",
       "    <tr>\n",
       "      <th>date</th>\n",
       "      <th></th>\n",
       "      <th></th>\n",
       "      <th></th>\n",
       "    </tr>\n",
       "  </thead>\n",
       "  <tbody>\n",
       "    <tr>\n",
       "      <th>2012-10-01</th>\n",
       "      <td>514</td>\n",
       "      <td>0</td>\n",
       "      <td>514</td>\n",
       "    </tr>\n",
       "    <tr>\n",
       "      <th>2012-10-02</th>\n",
       "      <td>482</td>\n",
       "      <td>514</td>\n",
       "      <td>-32</td>\n",
       "    </tr>\n",
       "    <tr>\n",
       "      <th>2012-10-03</th>\n",
       "      <td>499</td>\n",
       "      <td>482</td>\n",
       "      <td>17</td>\n",
       "    </tr>\n",
       "    <tr>\n",
       "      <th>2012-10-04</th>\n",
       "      <td>546</td>\n",
       "      <td>499</td>\n",
       "      <td>47</td>\n",
       "    </tr>\n",
       "    <tr>\n",
       "      <th>2012-10-05</th>\n",
       "      <td>476</td>\n",
       "      <td>546</td>\n",
       "      <td>-70</td>\n",
       "    </tr>\n",
       "    <tr>\n",
       "      <th>...</th>\n",
       "      <td>...</td>\n",
       "      <td>...</td>\n",
       "      <td>...</td>\n",
       "    </tr>\n",
       "    <tr>\n",
       "      <th>2013-09-11</th>\n",
       "      <td>719</td>\n",
       "      <td>715</td>\n",
       "      <td>4</td>\n",
       "    </tr>\n",
       "    <tr>\n",
       "      <th>2013-09-12</th>\n",
       "      <td>735</td>\n",
       "      <td>719</td>\n",
       "      <td>16</td>\n",
       "    </tr>\n",
       "    <tr>\n",
       "      <th>2013-09-13</th>\n",
       "      <td>743</td>\n",
       "      <td>735</td>\n",
       "      <td>8</td>\n",
       "    </tr>\n",
       "    <tr>\n",
       "      <th>2013-09-14</th>\n",
       "      <td>655</td>\n",
       "      <td>743</td>\n",
       "      <td>-88</td>\n",
       "    </tr>\n",
       "    <tr>\n",
       "      <th>2013-09-15</th>\n",
       "      <td>752</td>\n",
       "      <td>655</td>\n",
       "      <td>97</td>\n",
       "    </tr>\n",
       "  </tbody>\n",
       "</table>\n",
       "<p>350 rows × 3 columns</p>\n",
       "</div>"
      ],
      "text/plain": [
       "            sales_amount  previous_day_sales_amount  biggest_sales_difference\n",
       "date                                                                         \n",
       "2012-10-01           514                          0                       514\n",
       "2012-10-02           482                        514                       -32\n",
       "2012-10-03           499                        482                        17\n",
       "2012-10-04           546                        499                        47\n",
       "2012-10-05           476                        546                       -70\n",
       "...                  ...                        ...                       ...\n",
       "2013-09-11           719                        715                         4\n",
       "2013-09-12           735                        719                        16\n",
       "2013-09-13           743                        735                         8\n",
       "2013-09-14           655                        743                       -88\n",
       "2013-09-15           752                        655                        97\n",
       "\n",
       "[350 rows x 3 columns]"
      ]
     },
     "execution_count": 25,
     "metadata": {},
     "output_type": "execute_result"
    }
   ],
   "source": [
    "biggest_change_df"
   ]
  },
  {
   "cell_type": "code",
   "execution_count": 26,
   "id": "c4c69bf8-f5e6-4e18-942e-17a03f97b9e8",
   "metadata": {},
   "outputs": [
    {
     "data": {
      "text/html": [
       "<div>\n",
       "<style scoped>\n",
       "    .dataframe tbody tr th:only-of-type {\n",
       "        vertical-align: middle;\n",
       "    }\n",
       "\n",
       "    .dataframe tbody tr th {\n",
       "        vertical-align: top;\n",
       "    }\n",
       "\n",
       "    .dataframe thead th {\n",
       "        text-align: right;\n",
       "    }\n",
       "</style>\n",
       "<table border=\"1\" class=\"dataframe\">\n",
       "  <thead>\n",
       "    <tr style=\"text-align: right;\">\n",
       "      <th></th>\n",
       "      <th>sales_amount</th>\n",
       "      <th>previous_day_sales_amount</th>\n",
       "      <th>biggest_sales_difference</th>\n",
       "    </tr>\n",
       "    <tr>\n",
       "      <th>date</th>\n",
       "      <th></th>\n",
       "      <th></th>\n",
       "      <th></th>\n",
       "    </tr>\n",
       "  </thead>\n",
       "  <tbody>\n",
       "    <tr>\n",
       "      <th>2012-10-01</th>\n",
       "      <td>514</td>\n",
       "      <td>0</td>\n",
       "      <td>514</td>\n",
       "    </tr>\n",
       "    <tr>\n",
       "      <th>2013-04-29</th>\n",
       "      <td>732</td>\n",
       "      <td>458</td>\n",
       "      <td>274</td>\n",
       "    </tr>\n",
       "  </tbody>\n",
       "</table>\n",
       "</div>"
      ],
      "text/plain": [
       "            sales_amount  previous_day_sales_amount  biggest_sales_difference\n",
       "date                                                                         \n",
       "2012-10-01           514                          0                       514\n",
       "2013-04-29           732                        458                       274"
      ]
     },
     "execution_count": 26,
     "metadata": {},
     "output_type": "execute_result"
    }
   ],
   "source": [
    "biggest_change_df.nlargest(2, 'biggest_sales_difference')"
   ]
  },
  {
   "cell_type": "markdown",
   "id": "91a18df6-2505-4fb8-a8f7-3be36d5bb835",
   "metadata": {},
   "source": [
    "## Question 3\n",
    "\n",
    "**Is the change in daily sales at the date you selected statistically significant? If so, what is the p-value?**"
   ]
  },
  {
   "cell_type": "code",
   "execution_count": 27,
   "id": "0c39ec5f-cb38-4215-8fea-98d579c380a1",
   "metadata": {},
   "outputs": [],
   "source": [
    "from scipy import stats"
   ]
  },
  {
   "cell_type": "code",
   "execution_count": 28,
   "id": "9b7cb1b5-53d6-4ef0-a231-b1f34fafb7a7",
   "metadata": {},
   "outputs": [],
   "source": [
    "daily_sales_df.dropna(inplace=True)"
   ]
  },
  {
   "cell_type": "code",
   "execution_count": 29,
   "id": "6b7f32d0-2c93-4a71-815f-84e0c1f36fed",
   "metadata": {},
   "outputs": [
    {
     "data": {
      "text/plain": [
       "Ttest_1sampResult(statistic=-26.367553024439697, pvalue=4.5681432390066193e-85)"
      ]
     },
     "execution_count": 29,
     "metadata": {},
     "output_type": "execute_result"
    }
   ],
   "source": [
    "# compare max change with all sales_amount column\n",
    "stats.ttest_1samp(daily_sales_df['sales_amount'], 732)"
   ]
  },
  {
   "cell_type": "markdown",
   "id": "f1bd0868-f235-43d9-84bc-7cb5f84aa067",
   "metadata": {},
   "source": [
    "Question 4\n",
    "\n",
    "**Does the data suggest that the change in daily sales is due to a shift in the proportion of male-vs-female customers? Please use plots to support your answer (a rigorous statistical analysis is not necessary).**"
   ]
  },
  {
   "cell_type": "code",
   "execution_count": 30,
   "id": "92123c59-a775-4d2c-bc61-77036b6853ef",
   "metadata": {},
   "outputs": [],
   "source": [
    "df['sale_day'] = pd.to_datetime(df['sale_time']).dt.floor('d')"
   ]
  },
  {
   "cell_type": "code",
   "execution_count": 31,
   "id": "52ebe861-66bf-40fc-8cff-69bf3650a507",
   "metadata": {},
   "outputs": [],
   "source": [
    "gender_portions_df = df.groupby(['sale_day', 'purchaser_gender']).size().reset_index(name='sales_amount')"
   ]
  },
  {
   "cell_type": "code",
   "execution_count": 32,
   "id": "365afa53-4ba6-4b96-a781-6fe27b9b8e5e",
   "metadata": {},
   "outputs": [
    {
     "data": {
      "text/html": [
       "<div>\n",
       "<style scoped>\n",
       "    .dataframe tbody tr th:only-of-type {\n",
       "        vertical-align: middle;\n",
       "    }\n",
       "\n",
       "    .dataframe tbody tr th {\n",
       "        vertical-align: top;\n",
       "    }\n",
       "\n",
       "    .dataframe thead th {\n",
       "        text-align: right;\n",
       "    }\n",
       "</style>\n",
       "<table border=\"1\" class=\"dataframe\">\n",
       "  <thead>\n",
       "    <tr style=\"text-align: right;\">\n",
       "      <th></th>\n",
       "      <th>sale_day</th>\n",
       "      <th>purchaser_gender</th>\n",
       "      <th>sales_amount</th>\n",
       "    </tr>\n",
       "  </thead>\n",
       "  <tbody>\n",
       "    <tr>\n",
       "      <th>0</th>\n",
       "      <td>2012-10-01</td>\n",
       "      <td>female</td>\n",
       "      <td>413</td>\n",
       "    </tr>\n",
       "    <tr>\n",
       "      <th>1</th>\n",
       "      <td>2012-10-01</td>\n",
       "      <td>male</td>\n",
       "      <td>101</td>\n",
       "    </tr>\n",
       "    <tr>\n",
       "      <th>2</th>\n",
       "      <td>2012-10-02</td>\n",
       "      <td>female</td>\n",
       "      <td>379</td>\n",
       "    </tr>\n",
       "    <tr>\n",
       "      <th>3</th>\n",
       "      <td>2012-10-02</td>\n",
       "      <td>male</td>\n",
       "      <td>103</td>\n",
       "    </tr>\n",
       "    <tr>\n",
       "      <th>4</th>\n",
       "      <td>2012-10-03</td>\n",
       "      <td>female</td>\n",
       "      <td>386</td>\n",
       "    </tr>\n",
       "    <tr>\n",
       "      <th>...</th>\n",
       "      <td>...</td>\n",
       "      <td>...</td>\n",
       "      <td>...</td>\n",
       "    </tr>\n",
       "    <tr>\n",
       "      <th>695</th>\n",
       "      <td>2013-09-13</td>\n",
       "      <td>male</td>\n",
       "      <td>537</td>\n",
       "    </tr>\n",
       "    <tr>\n",
       "      <th>696</th>\n",
       "      <td>2013-09-14</td>\n",
       "      <td>female</td>\n",
       "      <td>193</td>\n",
       "    </tr>\n",
       "    <tr>\n",
       "      <th>697</th>\n",
       "      <td>2013-09-14</td>\n",
       "      <td>male</td>\n",
       "      <td>462</td>\n",
       "    </tr>\n",
       "    <tr>\n",
       "      <th>698</th>\n",
       "      <td>2013-09-15</td>\n",
       "      <td>female</td>\n",
       "      <td>230</td>\n",
       "    </tr>\n",
       "    <tr>\n",
       "      <th>699</th>\n",
       "      <td>2013-09-15</td>\n",
       "      <td>male</td>\n",
       "      <td>522</td>\n",
       "    </tr>\n",
       "  </tbody>\n",
       "</table>\n",
       "<p>700 rows × 3 columns</p>\n",
       "</div>"
      ],
      "text/plain": [
       "      sale_day purchaser_gender  sales_amount\n",
       "0   2012-10-01           female           413\n",
       "1   2012-10-01             male           101\n",
       "2   2012-10-02           female           379\n",
       "3   2012-10-02             male           103\n",
       "4   2012-10-03           female           386\n",
       "..         ...              ...           ...\n",
       "695 2013-09-13             male           537\n",
       "696 2013-09-14           female           193\n",
       "697 2013-09-14             male           462\n",
       "698 2013-09-15           female           230\n",
       "699 2013-09-15             male           522\n",
       "\n",
       "[700 rows x 3 columns]"
      ]
     },
     "execution_count": 32,
     "metadata": {},
     "output_type": "execute_result"
    }
   ],
   "source": [
    "gender_portions_df"
   ]
  },
  {
   "cell_type": "code",
   "execution_count": 33,
   "id": "c2b3264c-8cb8-4bf4-abbe-1f6bc8613e77",
   "metadata": {},
   "outputs": [],
   "source": [
    "new_df = pd.DataFrame(gender_portions_df['sale_day'].unique(), columns=['sale_day'])\n",
    "new_df['female_sales_amount'] = pd.Series(gender_portions_df[gender_portions_df['purchaser_gender'] =='female']['sales_amount']).reset_index(drop=True)\n",
    "new_df['male_sales_amount'] = pd.Series(gender_portions_df[gender_portions_df['purchaser_gender'] =='male']['sales_amount']).reset_index(drop=True)"
   ]
  },
  {
   "cell_type": "code",
   "execution_count": 34,
   "id": "0a0ed389-f98e-47f8-8d22-d9d606b1d024",
   "metadata": {},
   "outputs": [
    {
     "data": {
      "text/html": [
       "<div>\n",
       "<style scoped>\n",
       "    .dataframe tbody tr th:only-of-type {\n",
       "        vertical-align: middle;\n",
       "    }\n",
       "\n",
       "    .dataframe tbody tr th {\n",
       "        vertical-align: top;\n",
       "    }\n",
       "\n",
       "    .dataframe thead th {\n",
       "        text-align: right;\n",
       "    }\n",
       "</style>\n",
       "<table border=\"1\" class=\"dataframe\">\n",
       "  <thead>\n",
       "    <tr style=\"text-align: right;\">\n",
       "      <th></th>\n",
       "      <th>sale_day</th>\n",
       "      <th>female_sales_amount</th>\n",
       "      <th>male_sales_amount</th>\n",
       "    </tr>\n",
       "  </thead>\n",
       "  <tbody>\n",
       "    <tr>\n",
       "      <th>0</th>\n",
       "      <td>2012-10-01</td>\n",
       "      <td>413</td>\n",
       "      <td>101</td>\n",
       "    </tr>\n",
       "    <tr>\n",
       "      <th>1</th>\n",
       "      <td>2012-10-02</td>\n",
       "      <td>379</td>\n",
       "      <td>103</td>\n",
       "    </tr>\n",
       "    <tr>\n",
       "      <th>2</th>\n",
       "      <td>2012-10-03</td>\n",
       "      <td>386</td>\n",
       "      <td>113</td>\n",
       "    </tr>\n",
       "    <tr>\n",
       "      <th>3</th>\n",
       "      <td>2012-10-04</td>\n",
       "      <td>432</td>\n",
       "      <td>114</td>\n",
       "    </tr>\n",
       "    <tr>\n",
       "      <th>4</th>\n",
       "      <td>2012-10-05</td>\n",
       "      <td>368</td>\n",
       "      <td>108</td>\n",
       "    </tr>\n",
       "    <tr>\n",
       "      <th>...</th>\n",
       "      <td>...</td>\n",
       "      <td>...</td>\n",
       "      <td>...</td>\n",
       "    </tr>\n",
       "    <tr>\n",
       "      <th>345</th>\n",
       "      <td>2013-09-11</td>\n",
       "      <td>224</td>\n",
       "      <td>495</td>\n",
       "    </tr>\n",
       "    <tr>\n",
       "      <th>346</th>\n",
       "      <td>2013-09-12</td>\n",
       "      <td>225</td>\n",
       "      <td>510</td>\n",
       "    </tr>\n",
       "    <tr>\n",
       "      <th>347</th>\n",
       "      <td>2013-09-13</td>\n",
       "      <td>206</td>\n",
       "      <td>537</td>\n",
       "    </tr>\n",
       "    <tr>\n",
       "      <th>348</th>\n",
       "      <td>2013-09-14</td>\n",
       "      <td>193</td>\n",
       "      <td>462</td>\n",
       "    </tr>\n",
       "    <tr>\n",
       "      <th>349</th>\n",
       "      <td>2013-09-15</td>\n",
       "      <td>230</td>\n",
       "      <td>522</td>\n",
       "    </tr>\n",
       "  </tbody>\n",
       "</table>\n",
       "<p>350 rows × 3 columns</p>\n",
       "</div>"
      ],
      "text/plain": [
       "      sale_day  female_sales_amount  male_sales_amount\n",
       "0   2012-10-01                  413                101\n",
       "1   2012-10-02                  379                103\n",
       "2   2012-10-03                  386                113\n",
       "3   2012-10-04                  432                114\n",
       "4   2012-10-05                  368                108\n",
       "..         ...                  ...                ...\n",
       "345 2013-09-11                  224                495\n",
       "346 2013-09-12                  225                510\n",
       "347 2013-09-13                  206                537\n",
       "348 2013-09-14                  193                462\n",
       "349 2013-09-15                  230                522\n",
       "\n",
       "[350 rows x 3 columns]"
      ]
     },
     "execution_count": 34,
     "metadata": {},
     "output_type": "execute_result"
    }
   ],
   "source": [
    "new_df"
   ]
  },
  {
   "cell_type": "code",
   "execution_count": 35,
   "id": "8c83740f-cfa5-4f08-80bc-be64e2a8ad4f",
   "metadata": {},
   "outputs": [],
   "source": [
    "new_df['gender_ratio'] = new_df['male_sales_amount'] / new_df['female_sales_amount']"
   ]
  },
  {
   "cell_type": "code",
   "execution_count": 37,
   "id": "003f52f2-0463-4c8d-a9d4-aa7c832d7fc9",
   "metadata": {},
   "outputs": [
    {
     "data": {
      "image/png": "[encoded data removed]",
      "text/plain": [
       "<Figure size 1000x800 with 2 Axes>"
      ]
     },
     "metadata": {},
     "output_type": "display_data"
    }
   ],
   "source": [
    "plot_df = new_df.copy()\n",
    "plot_df['total_sales_amount'] = plot_df['male_sales_amount'] + plot_df['female_sales_amount']\n",
    "plot_df.drop(columns=['female_sales_amount', 'male_sales_amount'], inplace=True)\n",
    "plot_df.index = plot_df['sale_day']\n",
    "plot_df.drop(columns=['sale_day'], inplace=True)\n",
    "plot_df.plot(secondary_y = ['gender_ratio'], figsize = (10,8), title='gender ratio and sales amount over all 50 weeks')\n",
    "plt.show()"
   ]
  },
  {
   "cell_type": "markdown",
   "id": "ee79ffd1-007f-45bb-b0f7-95e37bcd9537",
   "metadata": {},
   "source": [
    "## Question 5\n",
    "\n",
    "**Assume a given day is divided into four dayparts: night (12:00AM - 6:00AM), morning (6:00AM to 12:00PM), afternoon (12:00PM to 6:00PM) and evening (6:00PM - 12:00AM). What is the percentage of sales in each daypart over all 50 weeks?**"
   ]
  },
  {
   "cell_type": "code",
   "execution_count": 38,
   "id": "39a35c2b-e74a-4c9d-bb35-21291255dcc5",
   "metadata": {},
   "outputs": [],
   "source": [
    "# get base df\n",
    "daypart_df = df.copy()"
   ]
  },
  {
   "cell_type": "code",
   "execution_count": 40,
   "id": "b15e7ecf-6200-41b0-8fcf-5ee84f04885e",
   "metadata": {},
   "outputs": [],
   "source": [
    "# convert to datetime\n",
    "daypart_df['sale_time'] = pd.to_datetime(daypart_df['sale_time'])"
   ]
  },
  {
   "cell_type": "code",
   "execution_count": 47,
   "id": "dc591840-19ea-468b-acea-138cb6f3bed7",
   "metadata": {},
   "outputs": [],
   "source": [
    "# drop sale_day and date\n",
    "# daypart_df.drop('date', axis=1, inplace=True)"
   ]
  },
  {
   "cell_type": "code",
   "execution_count": 55,
   "id": "b9a94a73-4231-40d0-bad2-752d731350ae",
   "metadata": {},
   "outputs": [],
   "source": [
    "import datetime as dt"
   ]
  },
  {
   "cell_type": "code",
   "execution_count": 61,
   "id": "37c6e55b-d26a-4f8f-b8b1-ce26d4b1c50a",
   "metadata": {},
   "outputs": [
    {
     "data": {
      "text/plain": [
       "sale_time           datetime64[ns]\n",
       "purchaser_gender            object\n",
       "date                datetime64[ns]\n",
       "sale_day            datetime64[ns]\n",
       "dtype: object"
      ]
     },
     "execution_count": 61,
     "metadata": {},
     "output_type": "execute_result"
    }
   ],
   "source": [
    "# split sale_time into 4 parts per day\n",
    "# extract sale hour to divide sales to the part of days\n",
    "daypart_df['sale_hour']  = pd.to_datetime(daypart_df['sale_time']).dt.ceil('h').dt.hour\n",
    "df.dtypes"
   ]
  },
  {
   "cell_type": "code",
   "execution_count": 62,
   "id": "123f7670-ea17-4296-ad28-05182dd7ab9e",
   "metadata": {},
   "outputs": [
    {
     "data": {
      "text/html": [
       "<div>\n",
       "<style scoped>\n",
       "    .dataframe tbody tr th:only-of-type {\n",
       "        vertical-align: middle;\n",
       "    }\n",
       "\n",
       "    .dataframe tbody tr th {\n",
       "        vertical-align: top;\n",
       "    }\n",
       "\n",
       "    .dataframe thead th {\n",
       "        text-align: right;\n",
       "    }\n",
       "</style>\n",
       "<table border=\"1\" class=\"dataframe\">\n",
       "  <thead>\n",
       "    <tr style=\"text-align: right;\">\n",
       "      <th></th>\n",
       "      <th>sale_time</th>\n",
       "      <th>purchaser_gender</th>\n",
       "      <th>sale_hour</th>\n",
       "    </tr>\n",
       "  </thead>\n",
       "  <tbody>\n",
       "    <tr>\n",
       "      <th>0</th>\n",
       "      <td>2012-10-01 01:42:22</td>\n",
       "      <td>female</td>\n",
       "      <td>2</td>\n",
       "    </tr>\n",
       "    <tr>\n",
       "      <th>1</th>\n",
       "      <td>2012-10-01 02:24:53</td>\n",
       "      <td>female</td>\n",
       "      <td>3</td>\n",
       "    </tr>\n",
       "    <tr>\n",
       "      <th>2</th>\n",
       "      <td>2012-10-01 02:25:40</td>\n",
       "      <td>female</td>\n",
       "      <td>3</td>\n",
       "    </tr>\n",
       "    <tr>\n",
       "      <th>3</th>\n",
       "      <td>2012-10-01 02:30:42</td>\n",
       "      <td>female</td>\n",
       "      <td>3</td>\n",
       "    </tr>\n",
       "    <tr>\n",
       "      <th>4</th>\n",
       "      <td>2012-10-01 02:51:32</td>\n",
       "      <td>male</td>\n",
       "      <td>3</td>\n",
       "    </tr>\n",
       "    <tr>\n",
       "      <th>...</th>\n",
       "      <td>...</td>\n",
       "      <td>...</td>\n",
       "      <td>...</td>\n",
       "    </tr>\n",
       "    <tr>\n",
       "      <th>204324</th>\n",
       "      <td>2013-09-15 23:30:51</td>\n",
       "      <td>female</td>\n",
       "      <td>0</td>\n",
       "    </tr>\n",
       "    <tr>\n",
       "      <th>204325</th>\n",
       "      <td>2013-09-15 23:42:02</td>\n",
       "      <td>female</td>\n",
       "      <td>0</td>\n",
       "    </tr>\n",
       "    <tr>\n",
       "      <th>204326</th>\n",
       "      <td>2013-09-15 23:43:24</td>\n",
       "      <td>male</td>\n",
       "      <td>0</td>\n",
       "    </tr>\n",
       "    <tr>\n",
       "      <th>204327</th>\n",
       "      <td>2013-09-15 23:43:32</td>\n",
       "      <td>male</td>\n",
       "      <td>0</td>\n",
       "    </tr>\n",
       "    <tr>\n",
       "      <th>204328</th>\n",
       "      <td>2013-09-15 23:48:47</td>\n",
       "      <td>male</td>\n",
       "      <td>0</td>\n",
       "    </tr>\n",
       "  </tbody>\n",
       "</table>\n",
       "<p>204329 rows × 3 columns</p>\n",
       "</div>"
      ],
      "text/plain": [
       "                 sale_time purchaser_gender  sale_hour\n",
       "0      2012-10-01 01:42:22           female          2\n",
       "1      2012-10-01 02:24:53           female          3\n",
       "2      2012-10-01 02:25:40           female          3\n",
       "3      2012-10-01 02:30:42           female          3\n",
       "4      2012-10-01 02:51:32             male          3\n",
       "...                    ...              ...        ...\n",
       "204324 2013-09-15 23:30:51           female          0\n",
       "204325 2013-09-15 23:42:02           female          0\n",
       "204326 2013-09-15 23:43:24             male          0\n",
       "204327 2013-09-15 23:43:32             male          0\n",
       "204328 2013-09-15 23:48:47             male          0\n",
       "\n",
       "[204329 rows x 3 columns]"
      ]
     },
     "execution_count": 62,
     "metadata": {},
     "output_type": "execute_result"
    }
   ],
   "source": [
    "daypart_df"
   ]
  },
  {
   "cell_type": "code",
   "execution_count": null,
   "id": "9a4ea602-1cee-4dc4-b3e0-3a75350bb434",
   "metadata": {},
   "outputs": [],
   "source": [
    "day"
   ]
  },
  {
   "cell_type": "code",
   "execution_count": null,
   "id": "315445d9-b39c-4cb8-b96c-3312fa96d75e",
   "metadata": {},
   "outputs": [],
   "source": [
    "# get sales column\n",
    "daypart_df['sale_time'].groupby(daypart_df['sale_time'].d)\n",
    "df['date'].groupby(df['date'].dt.floor('d')).size().reset_index(name='sales_amount')"
   ]
  },
  {
   "cell_type": "code",
   "execution_count": 49,
   "id": "a2a42315-a291-46ed-bd3c-0ead21e43bee",
   "metadata": {},
   "outputs": [
    {
     "data": {
      "text/html": [
       "<div>\n",
       "<style scoped>\n",
       "    .dataframe tbody tr th:only-of-type {\n",
       "        vertical-align: middle;\n",
       "    }\n",
       "\n",
       "    .dataframe tbody tr th {\n",
       "        vertical-align: top;\n",
       "    }\n",
       "\n",
       "    .dataframe thead th {\n",
       "        text-align: right;\n",
       "    }\n",
       "</style>\n",
       "<table border=\"1\" class=\"dataframe\">\n",
       "  <thead>\n",
       "    <tr style=\"text-align: right;\">\n",
       "      <th></th>\n",
       "      <th>sale_time</th>\n",
       "      <th>purchaser_gender</th>\n",
       "    </tr>\n",
       "  </thead>\n",
       "  <tbody>\n",
       "    <tr>\n",
       "      <th>0</th>\n",
       "      <td>2012-10-01 01:42:22</td>\n",
       "      <td>female</td>\n",
       "    </tr>\n",
       "    <tr>\n",
       "      <th>1</th>\n",
       "      <td>2012-10-01 02:24:53</td>\n",
       "      <td>female</td>\n",
       "    </tr>\n",
       "    <tr>\n",
       "      <th>2</th>\n",
       "      <td>2012-10-01 02:25:40</td>\n",
       "      <td>female</td>\n",
       "    </tr>\n",
       "    <tr>\n",
       "      <th>3</th>\n",
       "      <td>2012-10-01 02:30:42</td>\n",
       "      <td>female</td>\n",
       "    </tr>\n",
       "    <tr>\n",
       "      <th>4</th>\n",
       "      <td>2012-10-01 02:51:32</td>\n",
       "      <td>male</td>\n",
       "    </tr>\n",
       "  </tbody>\n",
       "</table>\n",
       "</div>"
      ],
      "text/plain": [
       "            sale_time purchaser_gender\n",
       "0 2012-10-01 01:42:22           female\n",
       "1 2012-10-01 02:24:53           female\n",
       "2 2012-10-01 02:25:40           female\n",
       "3 2012-10-01 02:30:42           female\n",
       "4 2012-10-01 02:51:32             male"
      ]
     },
     "execution_count": 49,
     "metadata": {},
     "output_type": "execute_result"
    }
   ],
   "source": [
    "daypart_df.head()"
   ]
  },
  {
   "cell_type": "code",
   "execution_count": 64,
   "id": "cb74e137-e4b0-4e07-97ae-b39ac497591c",
   "metadata": {},
   "outputs": [],
   "source": [
    "def assign_day_part(hour):\n",
    "    if hour > 6 and hour < 12:\n",
    "        return 'morning'\n",
    "    if hour > 12 and hour < 18:\n",
    "        return 'afternoon'\n",
    "    if hour > 18 and hour < 24:\n",
    "        return 'evening'\n",
    "    if hour > -1 and hour < 6:\n",
    "        return 'night'"
   ]
  },
  {
   "cell_type": "code",
   "execution_count": 67,
   "id": "07132dd1-8b3a-4f4f-ad60-4130dc0b9744",
   "metadata": {},
   "outputs": [],
   "source": [
    "# lambda\n",
    "# apply the defined function and create day_part column\n",
    "daypart_df['day_part'] = daypart_df['sale_hour'].apply(assign_day_part)"
   ]
  },
  {
   "cell_type": "code",
   "execution_count": 70,
   "id": "c804782c-0356-47dc-8090-d5466a930436",
   "metadata": {},
   "outputs": [],
   "source": [
    "daypart_df.drop(['purchaser_gender', 'sale_hour', 'period'], axis=1, inplace=True)"
   ]
  },
  {
   "cell_type": "code",
   "execution_count": 71,
   "id": "9c51e4b9-e26b-4371-9c6e-697d3876b8d8",
   "metadata": {},
   "outputs": [
    {
     "data": {
      "text/html": [
       "<div>\n",
       "<style scoped>\n",
       "    .dataframe tbody tr th:only-of-type {\n",
       "        vertical-align: middle;\n",
       "    }\n",
       "\n",
       "    .dataframe tbody tr th {\n",
       "        vertical-align: top;\n",
       "    }\n",
       "\n",
       "    .dataframe thead th {\n",
       "        text-align: right;\n",
       "    }\n",
       "</style>\n",
       "<table border=\"1\" class=\"dataframe\">\n",
       "  <thead>\n",
       "    <tr style=\"text-align: right;\">\n",
       "      <th></th>\n",
       "      <th>sale_time</th>\n",
       "      <th>day_part</th>\n",
       "    </tr>\n",
       "  </thead>\n",
       "  <tbody>\n",
       "    <tr>\n",
       "      <th>0</th>\n",
       "      <td>2012-10-01 01:42:22</td>\n",
       "      <td>night</td>\n",
       "    </tr>\n",
       "    <tr>\n",
       "      <th>1</th>\n",
       "      <td>2012-10-01 02:24:53</td>\n",
       "      <td>night</td>\n",
       "    </tr>\n",
       "    <tr>\n",
       "      <th>2</th>\n",
       "      <td>2012-10-01 02:25:40</td>\n",
       "      <td>night</td>\n",
       "    </tr>\n",
       "    <tr>\n",
       "      <th>3</th>\n",
       "      <td>2012-10-01 02:30:42</td>\n",
       "      <td>night</td>\n",
       "    </tr>\n",
       "    <tr>\n",
       "      <th>4</th>\n",
       "      <td>2012-10-01 02:51:32</td>\n",
       "      <td>night</td>\n",
       "    </tr>\n",
       "    <tr>\n",
       "      <th>...</th>\n",
       "      <td>...</td>\n",
       "      <td>...</td>\n",
       "    </tr>\n",
       "    <tr>\n",
       "      <th>204324</th>\n",
       "      <td>2013-09-15 23:30:51</td>\n",
       "      <td>night</td>\n",
       "    </tr>\n",
       "    <tr>\n",
       "      <th>204325</th>\n",
       "      <td>2013-09-15 23:42:02</td>\n",
       "      <td>night</td>\n",
       "    </tr>\n",
       "    <tr>\n",
       "      <th>204326</th>\n",
       "      <td>2013-09-15 23:43:24</td>\n",
       "      <td>night</td>\n",
       "    </tr>\n",
       "    <tr>\n",
       "      <th>204327</th>\n",
       "      <td>2013-09-15 23:43:32</td>\n",
       "      <td>night</td>\n",
       "    </tr>\n",
       "    <tr>\n",
       "      <th>204328</th>\n",
       "      <td>2013-09-15 23:48:47</td>\n",
       "      <td>night</td>\n",
       "    </tr>\n",
       "  </tbody>\n",
       "</table>\n",
       "<p>204329 rows × 2 columns</p>\n",
       "</div>"
      ],
      "text/plain": [
       "                 sale_time day_part\n",
       "0      2012-10-01 01:42:22    night\n",
       "1      2012-10-01 02:24:53    night\n",
       "2      2012-10-01 02:25:40    night\n",
       "3      2012-10-01 02:30:42    night\n",
       "4      2012-10-01 02:51:32    night\n",
       "...                    ...      ...\n",
       "204324 2013-09-15 23:30:51    night\n",
       "204325 2013-09-15 23:42:02    night\n",
       "204326 2013-09-15 23:43:24    night\n",
       "204327 2013-09-15 23:43:32    night\n",
       "204328 2013-09-15 23:48:47    night\n",
       "\n",
       "[204329 rows x 2 columns]"
      ]
     },
     "execution_count": 71,
     "metadata": {},
     "output_type": "execute_result"
    }
   ],
   "source": [
    "daypart_df"
   ]
  },
  {
   "cell_type": "code",
   "execution_count": 78,
   "id": "58a4f936-ce13-4070-87fb-5dac282d9639",
   "metadata": {},
   "outputs": [],
   "source": [
    "# add sales\n",
    "df_pct_sales = daypart_df.groupby(daypart_df['day_part']).size().reset_index(name='day_part_sales_amount')"
   ]
  },
  {
   "cell_type": "code",
   "execution_count": 79,
   "id": "37bb7dab-5494-44b2-ab8c-726556f29f18",
   "metadata": {},
   "outputs": [
    {
     "data": {
      "text/html": [
       "<div>\n",
       "<style scoped>\n",
       "    .dataframe tbody tr th:only-of-type {\n",
       "        vertical-align: middle;\n",
       "    }\n",
       "\n",
       "    .dataframe tbody tr th {\n",
       "        vertical-align: top;\n",
       "    }\n",
       "\n",
       "    .dataframe thead th {\n",
       "        text-align: right;\n",
       "    }\n",
       "</style>\n",
       "<table border=\"1\" class=\"dataframe\">\n",
       "  <thead>\n",
       "    <tr style=\"text-align: right;\">\n",
       "      <th></th>\n",
       "      <th>day_part</th>\n",
       "      <th>day_part_sales_amount</th>\n",
       "    </tr>\n",
       "  </thead>\n",
       "  <tbody>\n",
       "    <tr>\n",
       "      <th>0</th>\n",
       "      <td>afternoon</td>\n",
       "      <td>68119</td>\n",
       "    </tr>\n",
       "    <tr>\n",
       "      <th>1</th>\n",
       "      <td>evening</td>\n",
       "      <td>41111</td>\n",
       "    </tr>\n",
       "    <tr>\n",
       "      <th>2</th>\n",
       "      <td>morning</td>\n",
       "      <td>49833</td>\n",
       "    </tr>\n",
       "    <tr>\n",
       "      <th>3</th>\n",
       "      <td>night</td>\n",
       "      <td>13567</td>\n",
       "    </tr>\n",
       "  </tbody>\n",
       "</table>\n",
       "</div>"
      ],
      "text/plain": [
       "    day_part  day_part_sales_amount\n",
       "0  afternoon                  68119\n",
       "1    evening                  41111\n",
       "2    morning                  49833\n",
       "3      night                  13567"
      ]
     },
     "execution_count": 79,
     "metadata": {},
     "output_type": "execute_result"
    }
   ],
   "source": [
    "df_pct_sales"
   ]
  },
  {
   "cell_type": "code",
   "execution_count": null,
   "id": "cafb4945-5166-41e5-acdf-3afa166e2dc9",
   "metadata": {},
   "outputs": [],
   "source": []
  }
 ],
 "metadata": {
  "kernelspec": {
   "display_name": "Python 3 (ipykernel)",
   "language": "python",
   "name": "python3"
  },
  "language_info": {
   "codemirror_mode": {
    "name": "ipython",
    "version": 3
   },
   "file_extension": ".py",
   "mimetype": "text/x-python",
   "name": "python",
   "nbconvert_exporter": "python",
   "pygments_lexer": "ipython3",
   "version": "3.10.4"
  }
 },
 "nbformat": 4,
 "nbformat_minor": 5
}
